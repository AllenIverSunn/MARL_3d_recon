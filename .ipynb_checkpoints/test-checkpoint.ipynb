{
 "cells": [
  {
   "cell_type": "code",
   "execution_count": 1,
   "metadata": {},
   "outputs": [],
   "source": [
    "import cv2\n",
    "import matplotlib.pyplot as plt\n",
    "import numpy as np"
   ]
  },
  {
   "cell_type": "code",
   "execution_count": 24,
   "metadata": {},
   "outputs": [],
   "source": [
    "left = cv2.imread('./camera_calibration/recon3d_demo/imgs/left.jpg')\n",
    "right = cv2.imread('./camera_calibration/recon3d_demo/imgs/right.jpg')"
   ]
  },
  {
   "cell_type": "code",
   "execution_count": 29,
   "metadata": {},
   "outputs": [],
   "source": [
    "def SIFT(img, is_gray=False):\n",
    "    gray = img if is_gray else cv2.cvtColor(img, cv2.COLOR_BGR2GRAY)\n",
    "#     gray = cv2.GaussianBlur(gray, (5, 5), cv2.BORDER_DEFAULT)\n",
    "    sift = cv2.xfeatures2d.SIFT_create(nfeatures=500)\n",
    "    kp = sift.detect(gray, None)\n",
    "#     img = cv2.drawKeypoints(gray, kp, img)\n",
    "\n",
    "    ## Generate keypnt features\n",
    "    kp, des = sift.compute(gray, kp)\n",
    "    \n",
    "#     plt.imsave('./sift.png', img)\n",
    "    return kp, des"
   ]
  },
  {
   "cell_type": "code",
   "execution_count": null,
   "metadata": {},
   "outputs": [],
   "source": [
    "def feature_match(img1, img2, kp1, kp2, des1, des2):\n",
    "    # create BFMatcher object\n",
    "    bf = cv2.BFMatcher(cv2.NORM_HAMMING, crossCheck=True)\n",
    "    # Match descriptors.\n",
    "    matches = bf.match(des_l, des_r)\n",
    "    # Sort them in the order of their distance.\n",
    "    matches = sorted(matches, key = lambda x: x.distance)\n",
    "#     # Draw first 10 matches.\n",
    "#     img3 = cv2.drawMatches(left, kp_l, right, kp_r,\n",
    "#                            matches[:10],None, flags=cv2.DrawMatchesFlags_NOT_DRAW_SINGLE_POINTS)\n",
    "#     plt.imsave('./match.png', img3)\n",
    "    return matches"
   ]
  },
  {
   "cell_type": "code",
   "execution_count": 30,
   "metadata": {},
   "outputs": [],
   "source": [
    "kp_l, des_l = SIFT(left)\n",
    "kp_r, des_r = SIFT(right)"
   ]
  },
  {
   "cell_type": "code",
   "execution_count": 34,
   "metadata": {},
   "outputs": [],
   "source": [
    "des_l.dtype = np.uint8\n",
    "des_r.dtype = np.uint8"
   ]
  },
  {
   "cell_type": "code",
   "execution_count": 36,
   "metadata": {},
   "outputs": [],
   "source": [
    "# create BFMatcher object\n",
    "bf = cv2.BFMatcher(cv2.NORM_HAMMING, crossCheck=True)\n",
    "# Match descriptors.\n",
    "matches = bf.match(des_l, des_r)\n",
    "# Sort them in the order of their distance.\n",
    "matches = sorted(matches, key = lambda x: x.distance)\n",
    "# Draw first 10 matches.\n",
    "img3 = cv2.drawMatches(left, kp_l, right, kp_r,\n",
    "                       matches[:10],None, flags=cv2.DrawMatchesFlags_NOT_DRAW_SINGLE_POINTS)\n",
    "plt.imsave('./match.png', img3)"
   ]
  },
  {
   "cell_type": "code",
   "execution_count": 33,
   "metadata": {},
   "outputs": [
    {
     "data": {
      "text/plain": [
       "dtype('float32')"
      ]
     },
     "execution_count": 33,
     "metadata": {},
     "output_type": "execute_result"
    }
   ],
   "source": [
    "des_l.dtype"
   ]
  },
  {
   "cell_type": "code",
   "execution_count": 38,
   "metadata": {},
   "outputs": [
    {
     "data": {
      "text/plain": [
       "236"
      ]
     },
     "execution_count": 38,
     "metadata": {},
     "output_type": "execute_result"
    }
   ],
   "source": [
    "len(matches)"
   ]
  },
  {
   "cell_type": "code",
   "execution_count": null,
   "metadata": {},
   "outputs": [],
   "source": []
  }
 ],
 "metadata": {
  "kernelspec": {
   "display_name": "Python 3",
   "language": "python",
   "name": "python3"
  },
  "language_info": {
   "codemirror_mode": {
    "name": "ipython",
    "version": 3
   },
   "file_extension": ".py",
   "mimetype": "text/x-python",
   "name": "python",
   "nbconvert_exporter": "python",
   "pygments_lexer": "ipython3",
   "version": "3.7.4"
  }
 },
 "nbformat": 4,
 "nbformat_minor": 4
}
